{
 "cells": [
  {
   "cell_type": "markdown",
   "id": "44ff24e7",
   "metadata": {},
   "source": [
    "# Homework 2 (due Friday 12/20)\n",
    "\n",
    "The functions you write that do mathematical work have to have a (unit) test and a docstring (i.e. you don't have to write test for functions that do plotting, convergence tests, small utility things like input/output). It might seem tempting to write fewer functions (and hence fewer tests/less documentation), but not having a single function do too much at once makes it easier to debug and parse, and is considered good practice.\n",
    "\n",
    "You may use the `pytest` setup in your homework directory to test it offline or as you push code."
   ]
  },
  {
   "cell_type": "markdown",
   "id": "c4fc8887",
   "metadata": {},
   "source": [
    "### 1. Quadrature and special quadrature [12]\n",
    "\n",
    "You're going to estimate the integral \n",
    "\n",
    "```{math}\n",
    ":label: osc-int-1\n",
    "\\int_{-\\infty}^{\\infty} \\frac{1}{1 + x^2}\\cos(30(x - 1)^2)\\mathrm{d}x\n",
    "```\n",
    "\n",
    "numerically to high accuracy.\n",
    "\n",
    "a) As a warm-up exercise, write code to evaluate the integral $\\int_{-\\infty}^{\\infty} e^{-cx^2}$ numerically, where $c \\in \\mathbb{R}$ is a constant. By checking against the analytic answer, perform a convergence test. Aim to get an answer accurate to 13-14 digits. [3]\n",
    "\n",
    "_Hint_: You will find that there are multiple parameters in your numerical quadrature routine. Check convergence against all of these, either in the form of heat map(s), or by converging in one parameter first, then converging in the second parameter, etc. You can pick any quadrature method you like, bonus points if it's really efficient (needs few function evaluations)!\n",
    "\n",
    "b) Write the integrand of {eq}`osc-int-1` as the real part of some other function $g(z)$. At what point is the phase of the function stationary? [1]\n",
    "\n",
    "c) Write code that evaluates your function $g$ from b) with a complex argument $z$, and plot it(s real part) in the complex plane. [2]\n",
    "_Hint_: Use `pcolormesh` in Python with a symmetric log-scaled colorbar as described [here](https://matplotlib.org/stable/users/explain/colors/colormapnorms.html#symmetric-logarithmic)\n",
    "\n",
    "d) By looking at the plot, find a path that goes through the stationary point along which $g$ is smooth. What other function $h$ does it behave as along this path? Verify your answer. [1]\n",
    "\n",
    "e) Parameterize the path from d) in the form $z = f(s)$, where $s$ is a real parameter, and rewrite the original integral in {eq}`osc-int-1` in terms of $s$ along this path. [1]\n",
    "\n",
    "f) Write code that evaluates the integral from e) along the path. Don't forget to scale the integrand when you switch variables! Use your answer from a) to get values for the parameters you need for the numerical integral. [3]\n",
    "\n",
    "g) Estimate or find experimentally how much more computational work you'd need if you were to evaluate the integral {eq}`osc-int-1` on the real axis. [1]"
   ]
  },
  {
   "cell_type": "markdown",
   "id": "f13a90ba",
   "metadata": {},
   "source": [
    "### 2. Nystrom discretization [9]\n",
    "\n",
    "Code up the 1D Nystrom method in a way that allows you to switch easily between different quadrature schemes (e.g. by setting a switch variable at the start of your code). [2]\n",
    "_Hint_: I've given you code for this.\n",
    "\n",
    "Apply it to the second-kind Fredholm equation\n",
    "\n",
    "$$ u(t)+ \\int_0^1 e^{t s} u(s)\\mathrm{d}s = e^t + \\frac{1}{t + 1}(e^{t+1}−1) \\quad \\text{for }t \\in [0,1] $$\n",
    "\n",
    "which you can check has unique solution $u(t) = e^t$.\n",
    "\n",
    "a) Produce plots that show the convergence vs $N$, the number of nodes, of the maximum error magnitude in $u$ over the nodes, for the two schemes: i) composite trapezoid, and ii) Gaussian quadrature. [2]\n",
    "\n",
    "b) Categorize the convergence in each case and relate it to that of the quadrature scheme. What $N$ is required in each case to reach an error smaller than $10^{−5}$? [2]\n",
    "\n",
    "c) How does the condition number of the linear system you are solving change with $N$? (You don’t need to plot this, just describe). [1]\n",
    "\n",
    "d) At $N = 5$ for Gaussian quadrature, produce a plot of the difference between the Nystrom interpolated solution function $u_n(t)$ and the exact solution, on a fine grid on the interval $[0,1]$. (Don’t show the two functions, just subtract them). Overlay the errors at just the $5$ nodes onto your graph as blobs. Is the true error sup norm of the solution reflected by the maximum error magnitude in u over the nodes, as you assumed in part a)? [2]"
   ]
  },
  {
   "cell_type": "markdown",
   "id": "fe5e8df9",
   "metadata": {},
   "source": [
    "### 3. Directional derivative of the fundamental solution [5]\n",
    "\n",
    "The fundamental solution for Laplace’s equation in 2D is $\\Phi(x, y) = \\frac{1}{2\\pi} \\log \\frac{1}{|x − y|}$, where $y$ is a source point in $\\mathbb{R}^2$, and $x$ a target point also in $\\mathbb{R}^2$. Here you examine its directional derivative.\n",
    "\n",
    "a) Make a function which returns $\\frac{\\partial\\Phi(x,y)}{\\partial n_y}$, the derivative with respect to source location in the direction $n_y$, given vectors $x, y \\in \\mathbb{R}^2$ and a unit vector $n_y \\in \\mathbb{R}^2$. Generalize your routine so that it handles multiple $x$ vectors (e.g. a 2-by-n matrix of coordinates of n such vectors), and returns the corresponding list of outputs. [3]\n",
    "\n",
    "_Hint_: Be sure to test it on known inputs! I've given you code to compute $\\Phi(x, y)$. \n",
    "\n",
    "b) Use the above to produce a contour plot of $\\frac{\\partial\\Phi(x,y)}{\\partial n_y}$ for $y = (0.5,−0.2)$, $n_y = (1/2, \\sqrt{3}/2),$ for $x$ varying over the square $[−1,1]^2$. [2]\n",
    "_Hint:_ Python's `matplotlib` and MATLAB both have a `contourf` function that does this. "
   ]
  },
  {
   "cell_type": "markdown",
   "id": "c1938ad0",
   "metadata": {},
   "source": [
    "### 4. Setting up closed curves [9]\n",
    "\n",
    "Set-up for closed curves in the plane. You’ll assume the user supplies a polar curve given by a $2\\pi$-periodic function $R$ and also supplies its derivative function $R'$.\n",
    "\n",
    "a) In terms of the functions $R$ and $R'$, make functions of $s$ (inline ones may do) returning the vector $z(s)$, the speed $|z'(s)|$, and the unit-length normal vector $n(s)$. [4]\n",
    "\n",
    "b) Given $M$, the number of equispaced periodic trapezoid nodes, use the above to fill a $2$ by $M$ array of boundary nodes $y_j = z(s_j)$, a similar array of normals $n_j$, and a $1 × M$ array of speeds $p_j$ .[2]\n",
    "\n",
    "c) For the choice $R(s) = 1 + 0.3 \\cos(3s)$ and $M = 30$, use the above arrays to produce a plot of the boundary nodes as blobs, with each surface normal plotted as a little line with its tail at its own boundary node.\n",
    "_Hint_: Use equal axes (aspect ratio 1:1) so that right angles look like they should. Python's `quiver` produces little arrows. [3]"
   ]
  },
  {
   "cell_type": "markdown",
   "id": "10d1c4da",
   "metadata": {},
   "source": [
    "### 5. Checking Gauss' Law [9]\n",
    "\n",
    "Here you check that Gauss’ Law really works, and test numerical convergence.\n",
    "\n",
    "a) Use periodic trapezoidal quadrature with $N = 30$ nodes in the parameter $s \\in [0, 2\\pi)$, your arrays from question 4, your plotting code from question 3, to write a code which approximates the boundary integral\n",
    "\n",
    "$$u(x) = \\int_{\\partial \\Omega} \\frac{\\partial \\Phi(x, y)}{\\partial n_y} \\mathrm{d}s_y $$\n",
    "\n",
    "for a set of points $x$. (Note this is the double-layer operator, $u = \\mathcal{D}\\tau$, acting on the density $\\tau \\equiv 1$.) Use this to make a 3D surface plot of $u(x)$, for $x$ in the square $[2,2]^2$. Check that interior values are roughly $-1$, and exterior zero. [4]\n",
    "_Hint_: To debug, try the circle $R \\equiv 1$ first.\n",
    "\n",
    "b) The above plot should approximate $−1$ in $\\Omega$; make a labeled `contourf` plot of $\\log_{10}$ of the absolute deviation from this value over the interior of $\\Omega$. How does the error seem to vary in the domain? [2]\n",
    "\n",
    "c) For the single fixed location $x = (0.2,0.1)$, show convergence vs $N$ of error at this point on an appropriate plot, and state the convergence order or rate. What N is needed to reach the minimum error?  [3]"
   ]
  },
  {
   "cell_type": "markdown",
   "id": "c133823e",
   "metadata": {},
   "source": [
    "### 6. Laplace's equation [14]\n",
    "\n",
    "At last you solve a BVP, the interior Dirichlet one for Laplace’s equation!\n",
    "\n",
    "a) Expand your code from question 4 to allow the input of the 2nd-derivative function $R''$, and to produce the curvature function $\\kappa(s)$ at the parameter $s$. [4]\n",
    "_Hint_: Debug by checking your curvature does what you expect for the curve $R(s) = 1 + 0.3 \\cos(3s$).\n",
    "\n",
    "b) Make a routine to fill the $N \\times N$ Nystrom kernel matrix: diagonal elements via $\\kappa(s_j)$, off-diagonal elements via the formula $\\frac{\\partial \\Phi(x,y)}{\\partial n_y}$. Don’t forget to include the speed function and (constant) weights $2\\pi/N$. Then add the identity (it is a second-kind Fredholm equation). \n",
    "_Hint_: debug using `imagesc` (MATLAB) or `imshow` (Python) on the matrix to see its diagonal entries smoothly match the off-diagonal; the kernel function should be smooth. You don't need to write a unit test other than this for this function. [6]\n",
    "\n",
    "c) Let’s use a BVP with known solution $u(x_1,x_2) = \\cos(x_1)e^{x_2}$ which you can check is harmonic. Then its Dirichlet boundary data is $f = u|_{\\partial \\Omega}$, which you should use to fill a column vector of values $f(s_j)$. Let’s fix $N = 30 $nodes. Solve the Nystrom linear system corresponding to the integral equation $(I − 2D)\\tau = −2f$ to get the $\\tau$ vector at the nodes. Tweak your code from question 5 to compute the solution potential $u^{(N)}(x)$ generated by this $\\tau$, at the location $x = (0.2, 0.1)$. [4]\n",
    "_Hint_: It should be small!"
   ]
  },
  {
   "cell_type": "code",
   "execution_count": null,
   "id": "cba28cd0",
   "metadata": {},
   "outputs": [],
   "source": []
  }
 ],
 "metadata": {
  "kernelspec": {
   "display_name": "Python 3 (ipykernel)",
   "language": "python",
   "name": "python3"
  },
  "language_info": {
   "codemirror_mode": {
    "name": "ipython",
    "version": 3
   },
   "file_extension": ".py",
   "mimetype": "text/x-python",
   "name": "python",
   "nbconvert_exporter": "python",
   "pygments_lexer": "ipython3",
   "version": "3.10.15"
  }
 },
 "nbformat": 4,
 "nbformat_minor": 5
}
